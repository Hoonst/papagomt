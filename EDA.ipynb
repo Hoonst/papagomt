{
 "cells": [
  {
   "cell_type": "code",
   "execution_count": 1,
   "id": "21daec3e",
   "metadata": {},
   "outputs": [],
   "source": [
    "import numpy as np\n",
    "\n",
    "import torch\n",
    "import torch.nn as nn\n",
    "from torch.nn.utils.rnn import pad_sequence\n",
    "from torch.utils.data import Dataset, DataLoader\n",
    "\n",
    "from sklearn.model_selection import train_test_split\n",
    "import seaborn as sns\n",
    "from typing import List, Set, Dict, Tuple"
   ]
  },
  {
   "cell_type": "code",
   "execution_count": 2,
   "id": "5afd91df",
   "metadata": {},
   "outputs": [],
   "source": [
    "train_source_loc = 'naver/train_source.txt'\n",
    "train_target_loc = 'naver/train_target.txt'\n",
    "\n",
    "test_source_loc = 'naver/test_source.txt'\n",
    "test_target_loc = 'naver/test_target.txt'"
   ]
  },
  {
   "cell_type": "code",
   "execution_count": 3,
   "id": "1fcc1d2f",
   "metadata": {},
   "outputs": [],
   "source": [
    "def open_process(file_loc):\n",
    "    file = open(file_loc, 'r')\n",
    "    file_lines = file.readlines()\n",
    "    file_lines = [list(map(int, line.split())) for line in file_lines]\n",
    "    return file_lines"
   ]
  },
  {
   "cell_type": "code",
   "execution_count": 4,
   "id": "ac15d283",
   "metadata": {},
   "outputs": [],
   "source": [
    "train_source = open_process(train_source_loc)\n",
    "train_target = open_process(train_target_loc)\n",
    "\n",
    "test_source = open_process(test_source_loc)\n",
    "test_target = open_process(test_target_loc)\n",
    "\n",
    "train_src_vocab = set([i for line in train_source for i in line])\n",
    "train_tgt_vocab = set([i for line in train_target for i in line])\n",
    "\n",
    "test_src_vocab = set([i for line in test_source for i in line])\n",
    "test_tgt_vocab = set([i for line in test_target for i in line])\n",
    "\n",
    "train_src_vocab_dict = {value: idx for idx, value in enumerate(sorted(train_src_vocab))}\n",
    "train_tgt_vocab_dict = {value: idx for idx, value in enumerate(sorted(train_tgt_vocab))}\n",
    "\n",
    "test_src_vocab_dict = {value: idx for idx, value in enumerate(sorted(test_src_vocab))}\n",
    "test_tgt_vocab_dict = {value: idx for idx, value in enumerate(sorted(test_tgt_vocab))}\n",
    "\n",
    "train_src_vocab_size = len(train_src_vocab)\n",
    "train_tgt_vocab_size = len(train_tgt_vocab)\n",
    "\n",
    "test_src_vocab_size = len(test_src_vocab)\n",
    "test_tgt_vocab_size = len(test_tgt_vocab)"
   ]
  },
  {
   "cell_type": "code",
   "execution_count": 5,
   "id": "288c42a2",
   "metadata": {},
   "outputs": [],
   "source": [
    "train_source = [[train_src_vocab_dict[i] for i in seq] for seq in train_source]\n",
    "train_target = [[train_tgt_vocab_dict[i] for i in seq] for seq in train_target]\n",
    "\n",
    "test_source = [[test_src_vocab_dict[i] for i in seq] for seq in test_source]\n",
    "test_target = [[test_tgt_vocab_dict[i] for i in seq] for seq in test_target]"
   ]
  },
  {
   "cell_type": "markdown",
   "id": "29371c39",
   "metadata": {},
   "source": [
    "68의 존재는 무엇인가"
   ]
  },
  {
   "cell_type": "code",
   "execution_count": 8,
   "id": "7329eaf8",
   "metadata": {},
   "outputs": [
    {
     "data": {
      "text/plain": [
       "<seaborn.axisgrid.FacetGrid at 0x7f483687b640>"
      ]
     },
     "execution_count": 8,
     "metadata": {},
     "output_type": "execute_result"
    },
    {
     "data": {
      "image/png": "[encoded data removed]",
      "text/plain": [
       "<Figure size 360x360 with 1 Axes>"
      ]
     },
     "metadata": {
      "needs_background": "light"
     },
     "output_type": "display_data"
    },
    {
     "data": {
      "image/png": "[encoded data removed]",
      "text/plain": [
       "<Figure size 360x360 with 1 Axes>"
      ]
     },
     "metadata": {
      "needs_background": "light"
     },
     "output_type": "display_data"
    }
   ],
   "source": [
    "train_target_len = list(map(len, train_target))\n",
    "sns.displot(train_target_len)\n",
    "\n",
    "test_source_len = list(map(len, test_source))\n",
    "sns.displot(test_source_len)"
   ]
  },
  {
   "cell_type": "code",
   "execution_count": 47,
   "id": "4aa24623",
   "metadata": {},
   "outputs": [
    {
     "name": "stdout",
     "output_type": "stream",
     "text": [
      "train source length: 7260\n",
      "mean length: 18\n",
      "max / min length: (81, 2)\n",
      "vocab size: 53\n",
      "==============================\n",
      "train target length: 7260\n",
      "mean length: 10\n",
      "max / min length: (54, 1)\n",
      "vocab size: 595\n",
      "test source length: 2000\n",
      "mean length: 19\n",
      "max / min length: (84, 1)\n",
      "vocab size: 45\n",
      "test target length: 2000\n",
      "mean length: 10\n",
      "max / min length: (54, 1)\n",
      "vocab size: 495\n"
     ]
    }
   ],
   "source": [
    "print(f'train source length: {len(train_source)}')\n",
    "print(f'mean length: {int(np.mean([len(i) for i in train_source]))}')\n",
    "print(f'max / min length: {len(max(train_source, key=len)), len(min(train_source, key=len))}')\n",
    "print(f'vocab size: {len(train_src_vocab)}')\n",
    "print('='*30)\n",
    "\n",
    "print(f'train target length: {len(train_target)}')\n",
    "print(f'mean length: {int(np.mean([len(i) for i in train_target]))}')\n",
    "print(f'max / min length: {len(max(train_target, key=len)), len(min(train_target, key=len))}')\n",
    "print(f'vocab size: {len(train_tgt_vocab)}')\n",
    "\n",
    "print(f'test source length: {len(test_source)}')\n",
    "print(f'mean length: {int(np.mean([len(i) for i in test_source]))}')\n",
    "print(f'max / min length: {len(max(test_source, key=len)), len(min(test_source, key=len))}')\n",
    "print(f'vocab size: {len(test_src_vocab)}')\n",
    "\n",
    "print(f'test target length: {len(test_target)}')\n",
    "print(f'mean length: {int(np.mean([len(i) for i in test_target]))}')\n",
    "print(f'max / min length: {len(max(test_target, key=len)), len(min(test_target, key=len))}')\n",
    "print(f'vocab size: {len(test_tgt_vocab)}')"
   ]
  }
 ],
 "metadata": {
  "kernelspec": {
   "display_name": "Python 3 (ipykernel)",
   "language": "python",
   "name": "python3"
  },
  "language_info": {
   "codemirror_mode": {
    "name": "ipython",
    "version": 3
   },
   "file_extension": ".py",
   "mimetype": "text/x-python",
   "name": "python",
   "nbconvert_exporter": "python",
   "pygments_lexer": "ipython3",
   "version": "3.8.3"
  }
 },
 "nbformat": 4,
 "nbformat_minor": 5
}
